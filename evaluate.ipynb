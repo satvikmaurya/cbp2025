{
 "cells": [
  {
   "cell_type": "code",
   "execution_count": 1,
   "id": "649911d7",
   "metadata": {},
   "outputs": [],
   "source": [
    "import pandas as pd\n",
    "import numpy as np\n",
    "import os\n",
    "from collections import Counter\n",
    "from matplotlib import pyplot as plt"
   ]
  },
  {
   "cell_type": "code",
   "execution_count": 2,
   "id": "3120ec6e",
   "metadata": {},
   "outputs": [],
   "source": [
    "csv_files = [f for f in os.listdir('./logs/') if f.endswith('.csv')]"
   ]
  },
  {
   "cell_type": "code",
   "execution_count": 2,
   "id": "8c3eb7c4",
   "metadata": {},
   "outputs": [],
   "source": [
    "def misp_rate(df:pd.DataFrame):\n",
    "    misps = df['actual'] != df['predicted']\n",
    "    return misps.mean()\n",
    "\n",
    "def get_misp_pcs(df:pd.DataFrame):\n",
    "    misps = df['actual'] != df['predicted']\n",
    "    pcs = df['pc'].values\n",
    "    misp_pcs = pcs[misps]\n",
    "    return misp_pcs"
   ]
  },
  {
   "cell_type": "code",
   "execution_count": 3,
   "id": "6e2119fb",
   "metadata": {},
   "outputs": [],
   "source": [
    "def problematic_pcs(df:pd.DataFrame):\n",
    "    misps = df['actual'] != df['predicted']\n",
    "    pcs = df['pc'].values\n",
    "    misp_pcs = pcs[misps]\n",
    "    counter = Counter(misp_pcs)\n",
    "    return counter.most_common(100)\n",
    "\n",
    "def analyze_branch(pc, df):\n",
    "    # Filter the dataframe for the specific pc\n",
    "    filtered_df = df[df['pc'] == pc]\n",
    "    actual = filtered_df['actual'].values\n",
    "    predicted = filtered_df['predicted'].values\n",
    "    fig, ax = plt.subplots(1, 1, figsize=(15, 10))\n",
    "    ax.scatter(range(len(actual[-2000:])), actual[-2000:], label='actual', color='blue', s=10)\n",
    "    ax.scatter(range(len(predicted[-2000:])), predicted[-2000:], label='predicted', color='orange', s=10)\n",
    "    return"
   ]
  },
  {
   "cell_type": "code",
   "execution_count": null,
   "id": "c8c79ce7",
   "metadata": {},
   "outputs": [
    {
     "name": "stdout",
     "output_type": "stream",
     "text": [
      "0.03612295840737154\n",
      "0.03612295840737154\n"
     ]
    }
   ],
   "source": [
    "for file in ['compress_0_trace_branch_misps.csv']:\n",
    "    fp = f'./logs/{file}'\n",
    "    df = pd.read_csv(fp)\n",
    "    pcs = problematic_pcs(df)\n",
    "    print(misp_rate(df))\n",
    "    # analyze_branch(pcs[0][0], df)\n",
    "    fp = f'./tagescl/{file}'\n",
    "    df2 = pd.read_csv(fp)\n",
    "    pcs2 = problematic_pcs(df)\n",
    "    print(misp_rate(df))\n",
    "    \n",
    "    break\n",
    "\n",
    "df\n",
    "df2"
   ]
  },
  {
   "cell_type": "code",
   "execution_count": 9,
   "id": "29632ef3",
   "metadata": {},
   "outputs": [
    {
     "name": "stdout",
     "output_type": "stream",
     "text": [
      "[('0xffffdfdf0814', 94111), ('0xffffdfdf0a98', 48309), ('0xffffdfdf097c', 47223), ('0xffffdfdf08e0', 39353), ('0xffffdfdf0ab8', 33185), ('0xffffdfdf0910', 29632), ('0xffffdfdf08b8', 24765), ('0xffffdfdf0988', 17777), ('0xffffdfde09d8', 10482), ('0xffffdfdf0a30', 7725), ('0xffffdfdf09e4', 7037), ('0xffffdfde0b4c', 6370), ('0xffffdfde0b64', 6176), ('0xffffdfdf0904', 6125), ('0xffffdfdf09a0', 5020), ('0xffffdfe0f3dc', 4930), ('0xffffdfdf0a04', 4694), ('0xffffdfde0acc', 4350), ('0xffffdfde0c5c', 3976), ('0xffffdfde0a80', 2554), ('0xffffdfde0b28', 2071), ('0xffffdfe0f408', 1989), ('0xffffdfe0eea4', 1784), ('0xffffdfe0f3c8', 1352), ('0xffffdfde48ac', 1039), ('0xffffdfe0f244', 1005), ('0xffffdfdf09b4', 701), ('0xffffdfdaaa58', 672), ('0xffffdfde48cc', 654), ('0xffffdfdf08fc', 646), ('0xffffdfde0aa8', 622), ('0xffffdfe0530c', 576), ('0xffffdfe0f3f8', 404), ('0xffffdfdaebd4', 331), ('0xffffdfe05340', 239), ('0xffffdfda9eb8', 238), ('0xffffdfda9ed4', 216), ('0xffffdfe04f20', 196), ('0xffffdfdaf190', 179), ('0xffffdfdaebbc', 178), ('0xffffdfdaf0c4', 164), ('0xffffdfe0ef0c', 151), ('0xffffdfdde4b8', 123), ('0xffffdfe05234', 114), ('0xffffdfdaaa30', 111), ('0xffffdfde0aa0', 97), ('0xffffdfc1f55c', 92), ('0xffff8000101b6c1c', 90), ('0xffffdfdf0a48', 83), ('0xffffdfdaa9b8', 82), ('0xffffdfe0f128', 79), ('0xffffdfe0eed0', 73), ('0xffffdfe0f250', 73), ('0xffffdfc2071c', 72), ('0xffffdfdf076c', 71), ('0xffffdfdaac68', 71), ('0xffffdfde0b7c', 71), ('0xffffdfe0f0c8', 69), ('0xffffdfe0f04c', 66), ('0xffffdfdf0948', 65), ('0xffffdfe0f100', 65), ('0xffffdfe0ef00', 62), ('0xffffdfdf0a64', 62), ('0xffffdfe0f0d8', 61), ('0xffffdfdaed48', 61), ('0xffffdfdde4d8', 61), ('0xffffdfdf0a88', 57), ('0xffffdfdf0b28', 55), ('0xffffdfdaaa08', 54), ('0xffffdfdaaca0', 53), ('0xffffdfe05330', 51), ('0xffffdfdab408', 47), ('0xffffdfe0f050', 46), ('0xffffdfdaac28', 45), ('0xffffdfdaac8c', 45), ('0xffffdfdab4b8', 44), ('0xffffdfdaaf5c', 44), ('0xffffdfdf0aa8', 44), ('0xffffdfe0f1ec', 43), ('0xffffdfdf0774', 42), ('0xffffdfdf074c', 42), ('0xffffdfdaaf4c', 40), ('0xffff800010239ad8', 40), ('0xffffdfe0f234', 39), ('0xffffdfdaaf40', 39), ('0xffff8000105673b4', 39), ('0xffffdfdad8b0', 38), ('0xffffdfdf09d4', 38), ('0xffffdfe0f3b4', 37), ('0xffffdfda9ef8', 36), ('0xffffdfda9ecc', 35), ('0xffffdfdab43c', 33), ('0xffffdfdaaa64', 31), ('0xffff80001019d3b0', 30), ('0xffffdfe0ee90', 30), ('0xffff80001019cbec', 29), ('0xffffdfdaa99c', 26), ('0xffffdfdf0e9c', 25), ('0xffffdfe052e8', 25), ('0xffffdfdaaf20', 24)]\n",
      "[('0xffffdfdf0814', 91054), ('0xffffdfdf0a98', 44657), ('0xffffdfdf097c', 44198), ('0xffffdfdf08e0', 38355), ('0xffffdfdf0ab8', 31184), ('0xffffdfdf0910', 27394), ('0xffffdfdf08b8', 23431), ('0xffffdfdf0988', 12702), ('0xffffdfde09d8', 10164), ('0xffffdfdf0a30', 7401), ('0xffffdfdf09e4', 6731), ('0xffffdfde0b4c', 5810), ('0xffffdfde0b64', 5673), ('0xffffdfdf0904', 5525), ('0xffffdfdf09a0', 4684), ('0xffffdfdf0a04', 4625), ('0xffffdfde0acc', 4109), ('0xffffdfde0c5c', 3669), ('0xffffdfde0a80', 2430), ('0xffffdfe0f408', 1864), ('0xffffdfe0eea4', 1663), ('0xffffdfde0b28', 1374), ('0xffffdfe0f3c8', 1360), ('0xffffdfde48ac', 1037), ('0xffffdfe0f244', 890), ('0xffffdfe0f3dc', 708), ('0xffffdfde48cc', 676), ('0xffffdfdf09b4', 666), ('0xffffdfdaaa58', 618), ('0xffffdfde0aa8', 559), ('0xffffdfdf08fc', 402), ('0xffffdfe0f3f8', 396), ('0xffffdfdaebd4', 331), ('0xffffdfda9ed4', 226), ('0xffffdfda9eb8', 224), ('0xffffdfe05340', 214), ('0xffffdfdaf190', 187), ('0xffffdfe04f20', 184), ('0xffffdfdaebbc', 180), ('0xffffdfdaf0c4', 164), ('0xffffdfe0ef0c', 143), ('0xffffdfdaaa30', 131), ('0xffffdfdde4b8', 111), ('0xffffdfe05234', 100), ('0xffff8000101b6c1c', 85), ('0xffffdfc1f55c', 84), ('0xffffdfdaa9b8', 80), ('0xffffdfc2071c', 73), ('0xffffdfdaed48', 71), ('0xffffdfdaaa08', 71), ('0xffffdfde0b7c', 71), ('0xffffdfdaac68', 70), ('0xffffdfdaaca0', 68), ('0xffffdfdde4d8', 61), ('0xffffdfde0aa0', 53), ('0xffffdfe05330', 53), ('0xffffdfdaaf5c', 52), ('0xffffdfdaac28', 48), ('0xffffdfdab4b8', 47), ('0xffffdfdaac8c', 46), ('0xffffdfdf0948', 45), ('0xffffdfdab408', 44), ('0xffffdfdaaf4c', 43), ('0xffffdfda9ef8', 42), ('0xffffdfdaaf40', 42), ('0xffffdfdf0774', 38), ('0xffffdfe0f0d8', 37), ('0xffffdfdad8b0', 37), ('0xffffdfe0530c', 37), ('0xffff80001019cbec', 35), ('0xffffdfdaaa64', 34), ('0xffff800010239ad8', 34), ('0xffffdfda9ecc', 33), ('0xffff8000105673b4', 33), ('0xffff80001019d3b0', 33), ('0xffffdfdab43c', 32), ('0xffffdfe0f0c8', 28), ('0xffffdfdaa99c', 27), ('0xffffdfdf0a88', 26), ('0xffffdfda9f00', 26), ('0xffffdfe0f100', 24), ('0xffffdfdaaf94', 24), ('0xffffdfe052e8', 24), ('0xffffdfdaaf20', 23), ('0xffff800010239dc8', 23), ('0xffffdfdaa9d8', 22), ('0xffff80001050d7bc', 22), ('0xffff8000101f521c', 22), ('0xffffdfdaece4', 21), ('0xffffdfe0f1ec', 20), ('0xffffdfda99e0', 20), ('0xffffdfe0ef00', 19), ('0xffffdfdaf0e0', 19), ('0xffffdfdf0e9c', 18), ('0xffffdfdaeab4', 18), ('0xffff8000105671d8', 18), ('0xffffdfdaabdc', 17), ('0xffff8000105673cc', 17), ('0xffffdfde0afc', 17), ('0xffff8000101f5350', 17)]\n"
     ]
    }
   ],
   "source": [
    "print(pcs)\n",
    "print(pcs2)"
   ]
  },
  {
   "cell_type": "code",
   "execution_count": null,
   "id": "9eb3a5cb",
   "metadata": {},
   "outputs": [],
   "source": []
  }
 ],
 "metadata": {
  "kernelspec": {
   "display_name": "pydecoders",
   "language": "python",
   "name": "python3"
  },
  "language_info": {
   "codemirror_mode": {
    "name": "ipython",
    "version": 3
   },
   "file_extension": ".py",
   "mimetype": "text/x-python",
   "name": "python",
   "nbconvert_exporter": "python",
   "pygments_lexer": "ipython3",
   "version": "3.9.18"
  }
 },
 "nbformat": 4,
 "nbformat_minor": 5
}
